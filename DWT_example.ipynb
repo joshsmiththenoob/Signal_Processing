{
 "cells": [
  {
   "cell_type": "markdown",
   "metadata": {},
   "source": [
    "## **Wavelet Transform Analysis of 1-D Signals using Python**"
   ]
  },
  {
   "cell_type": "code",
   "execution_count": 1,
   "metadata": {},
   "outputs": [],
   "source": [
    "import pywt"
   ]
  },
  {
   "cell_type": "markdown",
   "metadata": {},
   "source": [
    "### **單層小波轉換 (Haar小波基)**"
   ]
  },
  {
   "cell_type": "code",
   "execution_count": 2,
   "metadata": {},
   "outputs": [
    {
     "name": "stdout",
     "output_type": "stream",
     "text": [
      "[7.07106781 1.41421356 2.12132034 7.07106781]\n",
      "[-2.82842712  0.         -4.94974747 -1.41421356]\n",
      "[ 3.  7.  1.  1. -2.  5.  4.  6.]\n",
      "[3, 7, 1, 1, -2, 5, 4, 6]\n"
     ]
    }
   ],
   "source": [
    "x = [3, 7, 1, 1, -2, 5, 4, 6]\n",
    "cA, cD = pywt.dwt(x, 'haar') # Wavelet Transform ps. Morlet Wavelet不能使用DWT，使適用於CWT\n",
    "\n",
    "y = pywt.idwt(cA, cD, 'haar') # Inverse Wavelet Transform\n",
    "\n",
    "print(cA)\n",
    "print(cD)\n",
    "print(y)\n",
    "\n",
    "print(x)"
   ]
  },
  {
   "cell_type": "markdown",
   "metadata": {},
   "source": [
    "### **多層小波轉換 (DB小波機)**\n",
    "\n",
    "coeffs : cA_n, cD_n, cD_(n-1), ..., cD_1"
   ]
  },
  {
   "cell_type": "code",
   "execution_count": 6,
   "metadata": {},
   "outputs": [
    {
     "name": "stdout",
     "output_type": "stream",
     "text": [
      "3\n",
      "cA2 = [6.  6.5 6.5 6. ]\n",
      "cD2 = [ 4.  -3.5  3.5 -4. ]\n",
      "cD1 = [-2.82842712  0.         -4.94974747 -1.41421356  1.41421356  4.94974747\n",
      "  0.          2.82842712]\n",
      "Original Signal=  [3, 7, 1, 1, -2, 5, 4, 6, 6, 4, 5, -2, 1, 1, 7, 3]\n",
      "Reconstructed Signal=  [ 3.  7.  1.  1. -2.  5.  4.  6.  6.  4.  5. -2.  1.  1.  7.  3.]\n"
     ]
    }
   ],
   "source": [
    "x = [3, 7, 1, 1, -2, 5, 4, 6, 6, 4, 5, -2, 1, 1, 7, 3] # 對稱波形Signal\n",
    "\n",
    "coeffs = pywt.wavedec(x, 'db1', level= 2, mode= 'periodic') # DWT ， 二層分解， mode = periodic - 週期性的訊號 (∵訊號對稱)\n",
    "\n",
    "print(len(coeffs))\n",
    "cA2, cD2, cD1 = coeffs\n",
    "\n",
    "print('cA2 =', cA2)\n",
    "print('cD2 =', cD2)\n",
    "print('cD1 =', cD1)\n",
    "\n",
    "y = pywt.waverec(coeffs= coeffs , wavelet= 'db1', mode= 'periodic')\n",
    "print('Original Signal= ', x)\n",
    "print('Reconstructed Signal= ', y)"
   ]
  },
  {
   "cell_type": "code",
   "execution_count": null,
   "metadata": {},
   "outputs": [],
   "source": []
  }
 ],
 "metadata": {
  "kernelspec": {
   "display_name": "env_signal",
   "language": "python",
   "name": "python3"
  },
  "language_info": {
   "codemirror_mode": {
    "name": "ipython",
    "version": 3
   },
   "file_extension": ".py",
   "mimetype": "text/x-python",
   "name": "python",
   "nbconvert_exporter": "python",
   "pygments_lexer": "ipython3",
   "version": "3.8.10"
  },
  "orig_nbformat": 4
 },
 "nbformat": 4,
 "nbformat_minor": 2
}
