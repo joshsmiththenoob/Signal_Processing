{
 "cells": [
  {
   "cell_type": "markdown",
   "metadata": {},
   "source": [
    "## **什麼是小波 ?**"
   ]
  },
  {
   "cell_type": "code",
   "execution_count": 2,
   "metadata": {},
   "outputs": [
    {
     "name": "stdout",
     "output_type": "stream",
     "text": [
      "[-2.49951172 -2.49853516 -2.49755859 ...  2.49755859  2.49853516\n",
      "  2.49951172] 5120\n",
      "[0.000e+00 2.000e-01 4.000e-01 ... 5.114e+02 5.116e+02 5.118e+02] 2560\n"
     ]
    }
   ],
   "source": [
    "# 基本由一個母小波所組成的小波基組合，其互相獨立 -> 正交性\n",
    "import numpy as np\n",
    "import math\n",
    "\n",
    "fs = 1024 # 取樣頻率 sampling rate [pts/sec]\n",
    "N = fs*5 # 取樣總數目\n",
    "\n",
    "\n",
    "# 時間座標建立 : 以0為中心\n",
    "t_domain = np.arange(0,N) * 1/fs # 總點數 * d取樣間隔(週期) [sec/pt]\n",
    "t_domain = t_domain - np.mean(t_domain) # 時域座標中心化\n",
    "\n",
    "\n",
    "# 頻域座標建立 : 以0為中心\n",
    "f_d = fs/N # 頻域取樣間隔 = 1/Nd = fs/N_\n",
    "f_domain = np.arange(0, math.ceil(N/2)) * f_d\n",
    "\n",
    "print(t_domain, len(t_domain))\n",
    "print(f_domain, len(f_domain))"
   ]
  },
  {
   "cell_type": "code",
   "execution_count": null,
   "metadata": {},
   "outputs": [],
   "source": []
  }
 ],
 "metadata": {
  "kernelspec": {
   "display_name": "env_signal",
   "language": "python",
   "name": "python3"
  },
  "language_info": {
   "codemirror_mode": {
    "name": "ipython",
    "version": 3
   },
   "file_extension": ".py",
   "mimetype": "text/x-python",
   "name": "python",
   "nbconvert_exporter": "python",
   "pygments_lexer": "ipython3",
   "version": "3.8.10"
  },
  "orig_nbformat": 4
 },
 "nbformat": 4,
 "nbformat_minor": 2
}
